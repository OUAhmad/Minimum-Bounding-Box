{
 "cells": [
  {
   "cell_type": "markdown",
   "metadata": {},
   "source": [
    "# Convex Hull Vs Minimum Bounding Box\n",
    "The basic idea is given a set of points, find the wrapping points and reconstruct a 3D mesh of the shape"
   ]
  },
  {
   "cell_type": "markdown",
   "metadata": {},
   "source": [
    "### Imports"
   ]
  },
  {
   "cell_type": "code",
   "execution_count": 1,
   "metadata": {},
   "outputs": [],
   "source": [
    "from __future__ import division\n",
    "import numpy as np\n",
    "from numpy import *\n",
    "import matplotlib.pyplot as plt\n",
    "import sys  # maxint\n",
    "from mpl_toolkits.mplot3d import Axes3D\n",
    "from math import *\n",
    "%matplotlib inline\n",
    "import matplotlib as mpl"
   ]
  },
  {
   "cell_type": "code",
   "execution_count": 2,
   "metadata": {},
   "outputs": [],
   "source": [
    "%matplotlib qt"
   ]
  },
  {
   "cell_type": "markdown",
   "metadata": {},
   "source": [
    "### Bounding Boxes"
   ]
  },
  {
   "cell_type": "code",
   "execution_count": 3,
   "metadata": {},
   "outputs": [],
   "source": [
    "def minBoundingRect(hull_points_3d,Epsilon):\n",
    "    a=[]\n",
    "    boxes=[]\n",
    "    count = 0\n",
    "    # Test each angle to find bounding box with smallest area\n",
    "    min_bbox = (0, 0, sys.maxsize, 0, 0, 0, 0, 0, 0, 0, 0, 0) \n",
    "    # rot_angle1, rot_angle2, volume, width, height, depth, min_x, max_x, min_y, max_y, max_z, min_z\n",
    "\n",
    "    angi=np.arange(0.0, 90, Epsilon)\n",
    "\n",
    "    for iDeg in (angi):\n",
    "        boxes.append([])\n",
    "        angj=np.arange(0.0, 180, Epsilon)\n",
    "        for jDeg in (angj):\n",
    "            \n",
    "            i=deg2rad(iDeg)\n",
    "            j=deg2rad(jDeg)\n",
    "            \n",
    "            #Rotation Matrix = Rx * Rz\n",
    "            R = array([ [ math.cos(i),                                       -math.cos(i-(math.pi/2)),              0],\n",
    "                        [ math.cos(j)*math.cos(i-(math.pi/2))  ,             math.cos(j)*math.cos(i), -math.cos(j-(math.pi/2)) ],\n",
    "                        [ math.cos(i-(math.pi/2)) * math.cos(j-(math.pi/2)), math.cos(j-(math.pi/2))*math.cos(i),  math.cos(j) ] ])\n",
    "\n",
    "            #             OR\n",
    "            #             Rx = array([ [ 1,0,0],\n",
    "            #                          [ 0, math.cos(j), -math.cos(j-(math.pi/2)) ], \n",
    "            #                          [ 0, math.cos(j-(math.pi/2)), math.cos(j) ] ])\n",
    "            #             Rz = array([ [ math.cos(i), -math.cos(i-(math.pi/2)), 0 ], \n",
    "            #                          [ math.cos(i-(math.pi/2)), math.cos(i) , 0 ], \n",
    "            #                          [ 0,0,1]])\n",
    "            #             R = matmul(Rx,Rz)\n",
    "                        \n",
    "            # Apply this rotation to convex hull points\n",
    "            rot_points = matmul((hull_points_3d), R )\n",
    "\n",
    "            a.append(rot_points)\n",
    "\n",
    "            # Find min/max x,y points\n",
    "            min_x = nanmin(rot_points[:,0], axis=0)\n",
    "            max_x = nanmax(rot_points[:,0], axis=0)\n",
    "            min_y = nanmin(rot_points[:,1], axis=0)\n",
    "            max_y = nanmax(rot_points[:,1], axis=0)\n",
    "            min_z = nanmin(rot_points[:,2], axis=0)\n",
    "            max_z = nanmax(rot_points[:,2], axis=0)\n",
    "\n",
    "            # Calculate height/width/area of this bounding rectangle\n",
    "            width = max_x - min_x\n",
    "            height = max_y - min_y\n",
    "            depth = max_z-min_z\n",
    "            Volume = width * height * depth\n",
    "\n",
    "            boxes[count].append(Volume)\n",
    "\n",
    "            # Store the smallest rect found first (a simple convex hull might have 2 answers with same area)\n",
    "            if (Volume < min_bbox[2]):\n",
    "                min_bbox = ( i,j, Volume, width, height, depth, min_x, max_x, min_y, max_y, min_z, max_z )\n",
    "        count=count+1\n",
    "\n",
    "\n",
    "        # Re-create rotation matrix for smallest rect\n",
    "    i = min_bbox[0]\n",
    "    j = min_bbox[1]\n",
    "    R = array([ [ math.cos(i),                                       -math.cos(i-(math.pi/2)),              0],\n",
    "                [ math.cos(j)*math.cos(i-(math.pi/2))  ,             math.cos(j)*math.cos(i), -math.cos(j-(math.pi/2)) ],\n",
    "                [ math.cos(i-(math.pi/2)) * math.cos(j-(math.pi/2)), math.cos(j-(math.pi/2))*math.cos(i),  math.cos(j)             ] ])\n",
    "\n",
    "    # Project convex hull points onto rotated frame\n",
    "    rot_points = matmul((hull_points_3d), R )\n",
    "\n",
    "    # min/max x,y points are against baseline\n",
    "    min_x = min_bbox[6]\n",
    "    max_x = min_bbox[7]\n",
    "    min_y = min_bbox[8]\n",
    "    max_y = min_bbox[9]\n",
    "    min_z = min_bbox[10]\n",
    "    max_z = min_bbox[11]\n",
    "\n",
    "    # Calculate center point and project onto rotated frame\n",
    "    center_x = (min_x + max_x)/2\n",
    "    center_y = (min_y + max_y)/2\n",
    "    center_z = (min_x + max_x)/2\n",
    "    center_point = matmul(linalg.inv(R) , [ center_x, center_y, center_z])\n",
    "    #print (\"Bounding box center point: \\n\", center_point)\n",
    "\n",
    "    # Calculate corner points and project onto rotated frame\n",
    "    corner_points = zeros( (16,3) ) # empty 2 column array\n",
    "    corner_points[0] = matmul(  (R) ,[ min_x, min_y ,min_z ])\n",
    "    corner_points[1] = matmul(  (R), [ max_x, min_y ,min_z ])\n",
    "    corner_points[2] = matmul(  (R), [ max_x, max_y ,min_z ])\n",
    "    corner_points[3] = matmul(  (R), [ min_x, max_y ,min_z ])\n",
    "    corner_points[4] = matmul(  (R), [ min_x, min_y ,min_z ])\n",
    "    \n",
    "    corner_points[5] = matmul( (R), [ min_x, min_y ,max_z ])\n",
    "    corner_points[6] = matmul( (R), [ max_x, min_y ,max_z ])\n",
    "    corner_points[7] = matmul( (R), [ max_x, max_y ,max_z ])\n",
    "    corner_points[8] = matmul( (R), [ min_x, max_y ,max_z ])\n",
    "    corner_points[9] = matmul( (R), [ min_x, min_y ,max_z ])\n",
    "\n",
    "    corner_points[10] = matmul( (R), [ max_x, min_y ,max_z ])\n",
    "    corner_points[11] = matmul( (R), [ max_x, min_y ,min_z ])\n",
    "    \n",
    "    corner_points[12] = matmul( (R), [ max_x, max_y ,min_z ] )\n",
    "    corner_points[13] = matmul( (R), [ max_x, max_y ,max_z ])\n",
    "\n",
    "    corner_points[14] = matmul( (R), [ min_x, max_y ,max_z ])\n",
    "    corner_points[15] = matmul( (R), [ min_x, max_y ,min_z ])\n",
    "\n",
    "    return ( i, j, min_bbox[2], min_bbox[3], min_bbox[4], min_bbox[5], center_point, corner_points,a,boxes,rot_points) \n",
    "    # rot_angle, area, width, height, center_point, corner_points"
   ]
  },
  {
   "cell_type": "markdown",
   "metadata": {},
   "source": [
    "## Generate a random(ish) set of points and Variables Initialization"
   ]
  },
  {
   "cell_type": "code",
   "execution_count": 39,
   "metadata": {},
   "outputs": [
    {
     "data": {
      "text/plain": [
       "Text(0.5, 0.92, 'Given Set of Points')"
      ]
     },
     "execution_count": 39,
     "metadata": {},
     "output_type": "execute_result"
    }
   ],
   "source": [
    "n = 10 #Number of Input points\n",
    "Scale = 100 # Scale of Given Points\n",
    "\n",
    "# Cube points\n",
    "# sphere_points = array([ [0,0,0], [0,1,0], [1,1,0], [1,0,0], [1,0,1], [0,0,1], [0,1,1], [1,1,1] ])\n",
    "# sphere_points = Scale * sphere_points\n",
    "\n",
    "# Simplex points\n",
    "# sphere_points = array([[0,0,0], [0,1,-1], [1,0,-1], [1,1,0] ])\n",
    "sphere_points = array([ [0,0,1], [0,1,0], [1,0,0], [1,1,1] ])\n",
    "sphere_points = Scale * sphere_points\n",
    "\n",
    "# Dual Cube points\n",
    "# sphere_points = array([ [1,0,0], [0,1,0], [0,0,1], [-1,0,0], [0,-1,0], [0,0,-1] ])\n",
    "# sphere_points = Scale * sphere_points\n",
    "\n",
    "# Random points\n",
    "\n",
    "# sphere_points = Scale*random.exponential(1,size = (n,3) )\n",
    "# sphere_points = Scale*random.random(size = (n,3) )\n",
    "\n",
    "fig = plt.figure(1)\n",
    "ax = fig.subplots(1, 1, subplot_kw={'projection':'3d'})\n",
    "ax.scatter(sphere_points[:, 0], sphere_points[:, 1], sphere_points[:, 2], s=20, c='b', zorder=10)\n",
    "ax.set_title('Given Set of Points')"
   ]
  },
  {
   "cell_type": "markdown",
   "metadata": {},
   "source": [
    "## Bounding Box Calculation"
   ]
  },
  {
   "cell_type": "code",
   "execution_count": 40,
   "metadata": {},
   "outputs": [
    {
     "name": "stdout",
     "output_type": "stream",
     "text": [
      "Minimum Volume bounding box:\n",
      "Rotation angles:\n",
      "Along z axes:  0.0 rad  ( 0.0 deg )\n",
      "Along x axes:  0.0 rad  ( 0.0 deg )\n",
      "Width: 100.0  Height: 100.0  Depth: 100.0   Volume: 1000000.0\n",
      "Center point: \n",
      " [50. 50. 50.]\n",
      "Corner points: \n",
      " [[ 7.49879891e-31 -6.12323400e-15 -6.12323400e-15]\n",
      " [ 1.00000000e+02  3.74939946e-31 -6.12323400e-15]\n",
      " [ 1.00000000e+02  1.00000000e+02  0.00000000e+00]\n",
      " [-6.12323400e-15  1.00000000e+02  0.00000000e+00]\n",
      " [ 7.49879891e-31 -6.12323400e-15 -6.12323400e-15]\n",
      " [ 7.49879891e-31 -1.22464680e-14  1.00000000e+02]\n",
      " [ 1.00000000e+02 -6.12323400e-15  1.00000000e+02]\n",
      " [ 1.00000000e+02  1.00000000e+02  1.00000000e+02]\n",
      " [-6.12323400e-15  1.00000000e+02  1.00000000e+02]\n",
      " [ 7.49879891e-31 -1.22464680e-14  1.00000000e+02]\n",
      " [ 1.00000000e+02 -6.12323400e-15  1.00000000e+02]\n",
      " [ 1.00000000e+02  3.74939946e-31 -6.12323400e-15]\n",
      " [ 1.00000000e+02  1.00000000e+02  0.00000000e+00]\n",
      " [ 1.00000000e+02  1.00000000e+02  1.00000000e+02]\n",
      " [-6.12323400e-15  1.00000000e+02  1.00000000e+02]\n",
      " [-6.12323400e-15  1.00000000e+02  0.00000000e+00]] \n",
      "\n"
     ]
    },
    {
     "data": {
      "text/plain": [
       "Text(0.5, 0.92, 'Minimum Volume Bounding Box')"
      ]
     },
     "execution_count": 40,
     "metadata": {},
     "output_type": "execute_result"
    }
   ],
   "source": [
    "Epsilon = 0.5 #Angle Variations for bounding boxes\n",
    "(rot_angle1, rot_angle2, Volume, width, height, depth, center_point, corner_points,a,boxes,\n",
    " rot_points) = minBoundingRect(sphere_points,Epsilon)\n",
    "\n",
    "print (\"Minimum Volume bounding box:\")\n",
    "print (\"Rotation angles:\")\n",
    "print(\"Along z axes: \", rot_angle1, \"rad  (\", rot_angle1*(180/math.pi), \"deg )\")\n",
    "print(\"Along x axes: \", rot_angle2, \"rad  (\", rot_angle2*(180/math.pi), \"deg )\")\n",
    "print (\"Width:\", width, \" Height:\", height, \" Depth:\", depth, \"  Volume:\", Volume)\n",
    "print (\"Center point: \\n\", center_point) # numpy array\n",
    "print (\"Corner points: \\n\", corner_points, \"\\n\")  # numpy array\n",
    "\n",
    "fig = plt.figure(4)\n",
    "ax = fig.add_subplot(111, projection='3d')\n",
    "ax.plot3D(corner_points[:, 0], corner_points[:, 1], corner_points[:, 2], 'gray')\n",
    "ax.scatter(sphere_points[:, 0], sphere_points[:, 1], sphere_points[:, 2], s=20, c='b', zorder=10)\n",
    "ax.set_xlabel('X axis')\n",
    "ax.set_ylabel('Y axis')\n",
    "ax.set_zlabel('Z axis')\n",
    "ax.set_title('Minimum Volume Bounding Box')"
   ]
  },
  {
   "cell_type": "markdown",
   "metadata": {},
   "source": [
    "## Calculate the Convex Hull and draw the points. SCIPY REQUIRED"
   ]
  },
  {
   "cell_type": "code",
   "execution_count": 41,
   "metadata": {},
   "outputs": [
    {
     "name": "stdout",
     "output_type": "stream",
     "text": [
      "Convex hull vertices:  4\n"
     ]
    },
    {
     "data": {
      "text/plain": [
       "Text(0.5, 0.92, 'Convex Hull')"
      ]
     },
     "execution_count": 41,
     "metadata": {},
     "output_type": "execute_result"
    }
   ],
   "source": [
    "from scipy.spatial import ConvexHull\n",
    "\n",
    "# Calculate the convex hull (i.e wrapping points) for the set of points\n",
    "hull = ConvexHull(sphere_points)\n",
    "\n",
    "print(\"Convex hull vertices: \",sphere_points[hull.vertices].shape[0])\n",
    "\n",
    "# Plot it (red is the convex hull points, i.e the wrapping points and grey is the rest)\n",
    "fig = plt.figure(2)\n",
    "ax = fig.subplots(1, 1, subplot_kw={'projection':'3d'})\n",
    "\n",
    "# Plot all the points\n",
    "ax.scatter(sphere_points[:, 0], sphere_points[:, 1], sphere_points[:, 2], s=2, c='grey', zorder=10)\n",
    "\n",
    "# Plot the convex hull points in red\n",
    "ax.scatter(sphere_points[hull.vertices, 0], \n",
    "           sphere_points[hull.vertices, 1], \n",
    "           sphere_points[hull.vertices, 2], \n",
    "           s=20, c='r', zorder=20)\n",
    "ax.set_title('Convex Hull')"
   ]
  },
  {
   "cell_type": "markdown",
   "metadata": {},
   "source": [
    "## Use the results from the Convex Hull to draw a triangular surface"
   ]
  },
  {
   "cell_type": "code",
   "execution_count": 42,
   "metadata": {},
   "outputs": [
    {
     "name": "stdout",
     "output_type": "stream",
     "text": [
      "Convex Hull Volume:  333333.3333333333\n",
      "Ratio:  3.0\n"
     ]
    }
   ],
   "source": [
    "fig = plt.figure(3)\n",
    "ax = fig.subplots(1, 1, subplot_kw={'projection':'3d'})\n",
    "ax.plot_trisurf(sphere_points[:, 0], \n",
    "                sphere_points[:, 1], \n",
    "                sphere_points[:, 2], \n",
    "                triangles=hull.simplices, \n",
    "                cmap=plt.cm.Spectral)\n",
    "ax.plot3D(corner_points[:, 0], corner_points[:, 1], corner_points[:, 2], 'gray')\n",
    "ax.scatter(sphere_points[:, 0], sphere_points[:, 1], sphere_points[:, 2], s=20, c='b', zorder=10)\n",
    "ax.set_title('Convex Hull')\n",
    "volume = ConvexHull(sphere_points).volume\n",
    "print(\"Convex Hull Volume: \", volume)\n",
    "print(\"Ratio: \", Volume/volume)\n"
   ]
  },
  {
   "cell_type": "markdown",
   "metadata": {},
   "source": [
    "## Graph for Volume Relation with Angles"
   ]
  },
  {
   "cell_type": "code",
   "execution_count": 43,
   "metadata": {},
   "outputs": [
    {
     "data": {
      "text/plain": [
       "Text(0.5, 0.92, 'Volume as a function of Angles (z and x)')"
      ]
     },
     "execution_count": 43,
     "metadata": {},
     "output_type": "execute_result"
    }
   ],
   "source": [
    "Z=boxes\n",
    "# %matplotlib qt\n",
    "x = np.linspace(0, 90, np.asarray(Z).shape[1])\n",
    "y = np.linspace(0, 180, np.asarray(Z).shape[0])\n",
    "\n",
    "X, Y = np.meshgrid(x, y)\n",
    "fig = plt.figure(5)\n",
    "ax = plt.axes(projection='3d')\n",
    "surf = ax.plot_surface(X, Y, np.asarray(Z), cmap=mpl.cm.coolwarm,\n",
    "                       linewidth=0, antialiased=False)\n",
    "ax.set_xlabel('Angle along z axis')\n",
    "ax.set_ylabel('Angle along x axis')\n",
    "ax.set_zlabel('Volume')\n",
    "ax.set_title('Volume as a function of Angles (z and x)')"
   ]
  },
  {
   "cell_type": "markdown",
   "metadata": {},
   "source": [
    "## Save Volume Matrix"
   ]
  },
  {
   "cell_type": "code",
   "execution_count": 13,
   "metadata": {},
   "outputs": [],
   "source": [
    "mat = np.matrix(Z)\n",
    "with open('outfile.txt','wb') as f:\n",
    "    for line in mat:\n",
    "        np.savetxt(f, line, fmt='%.2f')"
   ]
  }
 ],
 "metadata": {
  "kernelspec": {
   "display_name": "Python 3",
   "language": "python",
   "name": "python3"
  },
  "language_info": {
   "codemirror_mode": {
    "name": "ipython",
    "version": 3
   },
   "file_extension": ".py",
   "mimetype": "text/x-python",
   "name": "python",
   "nbconvert_exporter": "python",
   "pygments_lexer": "ipython3",
   "version": "3.6.9"
  }
 },
 "nbformat": 4,
 "nbformat_minor": 2
}
